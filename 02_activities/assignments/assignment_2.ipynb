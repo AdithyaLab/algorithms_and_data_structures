{
 "cells": [
  {
   "cell_type": "markdown",
   "metadata": {},
   "source": [
    "# Practice Interview\n",
    "\n",
    "## Objective\n",
    "\n",
    "_*The partner assignment aims to provide participants with the opportunity to practice coding in an interview context. You will analyze your partner's Assignment 1. Moreover, code reviews are common practice in a software development team. This assignment should give you a taste of the code review process.*_\n",
    "\n",
    "## Group Size\n",
    "\n",
    "Each group should have 2 people. You will be assigned a partner\n",
    "\n",
    "## Part 1:\n",
    "\n",
    "You and your partner must share each other's Assignment 1 submission.\n",
    "\n",
    "Teaching assistant provided link: https://github.com/vivitali/algorithms_and_data_structures/pulls"
   ]
  },
  {
   "cell_type": "markdown",
   "metadata": {},
   "source": [
    "\n",
    "## Part 2:\n",
    "\n",
    "Create a Jupyter Notebook, create 6 of the following headings, and complete the following for your partner's assignment 1:\n",
    "\n",
    "-   Paraphrase the problem in your own words.\n"
   ]
  },
  {
   "cell_type": "code",
   "execution_count": null,
   "metadata": {},
   "outputs": [],
   "source": [
    "# Your answer here\n",
    "\n",
    "\"\"\" Question 3.\n",
    "Input: A list of n integers in the range [0, n], which may include duplicates. Output: A list of missing numbers in the range [0, n], or -1 if no numbers are missing.\n",
    "Goal is to identify and return any numbers missing from the specified range in the input list.\n",
    " \"\"\""
   ]
  },
  {
   "cell_type": "markdown",
   "metadata": {},
   "source": [
    "\n",
    "-   Create 1 new example that demonstrates you understand the problem. Trace/walkthrough 1 example that your partner made and explain it.\n"
   ]
  },
  {
   "cell_type": "code",
   "execution_count": null,
   "metadata": {},
   "outputs": [],
   "source": [
    "# Your answer here\n",
    "\n",
    "\"\"\"\n",
    "1) New example:\n",
    "input: lst = [0, 1, 2, 3]\n",
    "output: -1\n",
    "\n",
    "2) Example used by partner:\n",
    "input: lst = [6, 8, 2, 3, 5, 7, 0, 1, 10]\n",
    "output: 4, 9\n",
    "Input range are integers from zero to ten. four and nine are missing. Output is therefore four and nine.\n",
    "\"\"\""
   ]
  },
  {
   "cell_type": "markdown",
   "metadata": {},
   "source": [
    "\n",
    "-   Copy the solution your partner wrote. \n"
   ]
  },
  {
   "cell_type": "code",
   "execution_count": 1,
   "metadata": {},
   "outputs": [
    {
     "name": "stdout",
     "output_type": "stream",
     "text": [
      "[1]\n",
      "[2, 3]\n",
      "[4, 9]\n",
      "-1\n"
     ]
    }
   ],
   "source": [
    "# Your answer here\n",
    "\n",
    "from typing import List\n",
    "\n",
    "\n",
    "def missing_num(nums: List) -> int:\n",
    "  length = len(nums)\n",
    "  list_set = set(nums)\n",
    "  missing_numbers = []\n",
    "  for i in range(1, length + 1):\n",
    "    if i not in list_set:\n",
    "      missing_numbers.append(i)\n",
    "  return missing_numbers if missing_numbers else -1\n",
    "\n",
    "print(missing_num([0, 2]))         \n",
    "print(missing_num([5, 0, 1]))     \n",
    "print(missing_num([6, 8, 2, 3, 5, 7, 0, 1, 10]))  \n",
    "print(missing_num([1,2]))  "
   ]
  },
  {
   "cell_type": "markdown",
   "metadata": {},
   "source": [
    "\n",
    "-   Explain why their solution works in your own words.\n"
   ]
  },
  {
   "cell_type": "code",
   "execution_count": null,
   "metadata": {},
   "outputs": [],
   "source": [
    "# Your answer here\n",
    "\n",
    "\n",
    "\"\"\" \n",
    "The code defines a function for \"missing_num\", which finds missing numbers of integers within a range. If there are no missing numbers, the function returns -1.\n",
    "\n",
    "Steps:\n",
    "1) first gets the length of the list\n",
    "2) converts list to a set for faster lookup\n",
    "3) Stores empty numbers using missing_numbers = []\n",
    "4) for loop to iterate from 1:n of list, check if number is not in set and if so, add to missing_numbers list\n",
    "5) return missing numbers list if not empty, or -1\n",
    "Four examples are then provided to test the code. The last example showcases a -1 return, which means no missing numbers.\n",
    " \"\"\""
   ]
  },
  {
   "cell_type": "markdown",
   "metadata": {},
   "source": [
    "\n",
    "-   Explain the problem’s time and space complexity in your own words.\n"
   ]
  },
  {
   "cell_type": "code",
   "execution_count": null,
   "metadata": {},
   "outputs": [],
   "source": [
    "# Your answer here\n",
    "\"\"\" \n",
    "Time complexity is O(n). Length calculation is O(1), set conversion is O(n) and finding the missing numbers is O(n). The function is therefore O(1)+O(n)+O(n) so worst case is O(n).\n",
    "Space complexity is O(n). Set conversion is O(n) and missing numbers list is O(n). fuction is O(n)+O(n) so worst case is O(n).\n",
    "\"\"\""
   ]
  },
  {
   "cell_type": "markdown",
   "metadata": {},
   "source": [
    "\n",
    "-   Critique your partner's solution, including explanation, and if there is anything that should be adjusted.\n"
   ]
  },
  {
   "cell_type": "code",
   "execution_count": null,
   "metadata": {},
   "outputs": [],
   "source": [
    "# Your answer here\n",
    "\"\"\"\n",
    "Overall, the code is well laid out, tidy and the four examples at the end illustrate different outcomes as well, including the case of no missing number in list.\n",
    "The code is also efficient for the time and space complexity. Some additional comments on the code could be helpful to walk the reader through the script.\n",
    "\"\"\""
   ]
  },
  {
   "cell_type": "markdown",
   "metadata": {},
   "source": [
    "\n",
    "## Part 3:\n",
    "\n",
    "Please write a 200 word reflection documenting your process from assignment 1, and your presentation and review experience with your partner at the bottom of the Jupyter Notebook under a new heading \"Reflection.\" Again, export this Notebook as pdf.\n"
   ]
  },
  {
   "cell_type": "markdown",
   "metadata": {},
   "source": [
    "### Reflection"
   ]
  },
  {
   "cell_type": "code",
   "execution_count": null,
   "metadata": {},
   "outputs": [],
   "source": [
    "\"\"\" \n",
    "Process from assignment 1\n",
    "\n",
    "I completed question one in the first assignment. This involved a function (\"is_duplicate\") to check for duplicate values in a binary tree using a Breadth-Frist Search algorithm.\n",
    "The code used the treenode object to represent the root of the tree. If this was empty in a specified list, it would return -1. BFS traverses the tree level by level.\n",
    "This was also the first time I had used a set. I created a set called \"visited\" to track values found in the tree. An alternative approach could be to use Depth-First Search (DFS),\n",
    "which could be more memory efficient in balanced trees.\n",
    "\n",
    "This module provided a good introduction to understanding space and time complexity when considering data structures. In the case of my first assignment, both time and space\n",
    "complexity was O(n). In many examples covered in the live lectures, worst case scenarios in algorithms was tested alongside different data structures, providing emphasis on the\n",
    "importance of sets vs lists.\n",
    "\n",
    "Presentation and review experience\n",
    "\n",
    "It was a new experience to share my code with someone to review. I think I could improve my code by including more comments there are probably many additional things that I can improve\n",
    "on, which can only be ascertained through reviews with others. By reviewing each others code, both coders get the opportunity to learn from each other, with the aim to both become\n",
    "better coders.\n",
    "\n",
    "Reviewing my partner's code provided me with a couple of thoughts for my future coding activities, in particular, the importance of commenting, naming variables better and not\n",
    "overcomplicating the overall code.\n",
    " \"\"\""
   ]
  },
  {
   "cell_type": "markdown",
   "metadata": {},
   "source": [
    "\n",
    "## Evaluation Criteria\n",
    "\n",
    "We are looking for the similar points as Assignment 1\n",
    "\n",
    "-   Problem is accurately stated\n",
    "\n",
    "-   New example is correct and easily understandable\n",
    "\n",
    "-   Correctness, time, and space complexity of the coding solution\n",
    "\n",
    "-   Clarity in explaining why the solution works, its time and space complexity\n",
    "\n",
    "-   Quality of critique of your partner's assignment, if necessary\n"
   ]
  },
  {
   "cell_type": "markdown",
   "metadata": {},
   "source": [
    "## Submission Information\n",
    "\n",
    "🚨 **Please review our [Assignment Submission Guide](https://github.com/UofT-DSI/onboarding/blob/main/onboarding_documents/submissions.md)** 🚨 for detailed instructions on how to format, branch, and submit your work. Following these guidelines is crucial for your submissions to be evaluated correctly.\n",
    "\n",
    "### Submission Parameters:\n",
    "* Submission Due Date: `HH:MM AM/PM - DD/MM/YYYY`\n",
    "* The branch name for your repo should be: `assignment-2`\n",
    "* What to submit for this assignment:\n",
    "    * This Jupyter Notebook (assignment_2.ipynb) should be populated and should be the only change in your pull request.\n",
    "* What the pull request link should look like for this assignment: `https://github.com/<your_github_username>/algorithms_and_data_structures/pull/<pr_id>`\n",
    "    * Open a private window in your browser. Copy and paste the link to your pull request into the address bar. Make sure you can see your pull request properly. This helps the technical facilitator and learning support staff review your submission easily.\n",
    "\n",
    "Checklist:\n",
    "- [ ] Created a branch with the correct naming convention.\n",
    "- [ ] Ensured that the repository is public.\n",
    "- [ ] Reviewed the PR description guidelines and adhered to them.\n",
    "- [ ] Verify that the link is accessible in a private browser window.\n",
    "\n",
    "If you encounter any difficulties or have questions, please don't hesitate to reach out to our team via our Slack at `#cohort-3-help`. Our Technical Facilitators and Learning Support staff are here to help you navigate any challenges.\n"
   ]
  }
 ],
 "metadata": {
  "kernelspec": {
   "display_name": "dsi_participant",
   "language": "python",
   "name": "python3"
  },
  "language_info": {
   "codemirror_mode": {
    "name": "ipython",
    "version": 3
   },
   "file_extension": ".py",
   "mimetype": "text/x-python",
   "name": "python",
   "nbconvert_exporter": "python",
   "pygments_lexer": "ipython3",
   "version": "3.9.15"
  }
 },
 "nbformat": 4,
 "nbformat_minor": 2
}
